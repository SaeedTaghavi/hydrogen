{
  "nbformat": 4,
  "nbformat_minor": 0,
  "metadata": {
    "colab": {
      "name": "Hydrogen.ipynb",
      "version": "0.3.2",
      "provenance": [],
      "collapsed_sections": [],
      "toc_visible": true,
      "include_colab_link": true
    },
    "kernelspec": {
      "name": "python3",
      "display_name": "Python 3"
    }
  },
  "cells": [
    {
      "cell_type": "markdown",
      "metadata": {
        "id": "view-in-github",
        "colab_type": "text"
      },
      "source": [
        "<a href=\"https://colab.research.google.com/github/krislars/hydrogen/blob/master/Hydrogen.ipynb\" target=\"_parent\"><img src=\"https://colab.research.google.com/assets/colab-badge.svg\" alt=\"Open In Colab\"/></a>"
      ]
    },
    {
      "metadata": {
        "id": "jmLnVzcPctxL",
        "colab_type": "text"
      },
      "cell_type": "markdown",
      "source": [
        "# Hydrogen Atom"
      ]
    },
    {
      "metadata": {
        "id": "9SDK50hfczur",
        "colab_type": "text"
      },
      "cell_type": "markdown",
      "source": [
        "Kristen Larson, Western Washington University "
      ]
    },
    {
      "metadata": {
        "id": "ZEuy5wmJe3E_",
        "colab_type": "code",
        "outputId": "fef08a2c-b0eb-4565-87de-0e009adf0d06",
        "colab": {
          "base_uri": "https://localhost:8080/",
          "height": 258
        }
      },
      "cell_type": "code",
      "source": [
        "# You may want to comment this line out if running on your own system\n",
        "!pip install sympy==1.3"
      ],
      "execution_count": 0,
      "outputs": [
        {
          "output_type": "stream",
          "text": [
            "Collecting sympy==1.3\n",
            "\u001b[?25l  Downloading https://files.pythonhosted.org/packages/dd/f6/ed485ff22efdd7b371d0dbbf6d77ad61c3b3b7e0815a83c89cbb38ce35de/sympy-1.3.tar.gz (5.9MB)\n",
            "\u001b[K    100% |████████████████████████████████| 5.9MB 998kB/s \n",
            "\u001b[?25hRequirement already satisfied: mpmath>=0.19 in /usr/local/lib/python3.6/dist-packages (from sympy==1.3) (1.1.0)\n",
            "Building wheels for collected packages: sympy\n",
            "  Building wheel for sympy (setup.py) ... \u001b[?25ldone\n",
            "\u001b[?25h  Stored in directory: /root/.cache/pip/wheels/6c/59/86/478e3c0f298368c119095cc5985dedac57c0e35a85c737f823\n",
            "Successfully built sympy\n",
            "Installing collected packages: sympy\n",
            "  Found existing installation: sympy 1.1.1\n",
            "    Uninstalling sympy-1.1.1:\n",
            "      Successfully uninstalled sympy-1.1.1\n",
            "Successfully installed sympy-1.3\n"
          ],
          "name": "stdout"
        }
      ]
    },
    {
      "metadata": {
        "id": "gbcLGnLRZpLY",
        "colab_type": "code",
        "colab": {}
      },
      "cell_type": "code",
      "source": [
        "from sympy import Symbol,integrate,conjugate,plot,diff,solve,sin,oo,pi\n",
        "from sympy.physics.hydrogen import R_nl,Psi_nlm,Ynm"
      ],
      "execution_count": 0,
      "outputs": []
    },
    {
      "metadata": {
        "id": "FDz2ePTlcez3",
        "colab_type": "code",
        "colab": {}
      },
      "cell_type": "code",
      "source": [
        "r=Symbol(\"r\", real=True, positive=True)\n",
        "phi=Symbol(\"phi\", real=True)\n",
        "theta=Symbol(\"theta\", real=True)"
      ],
      "execution_count": 0,
      "outputs": []
    },
    {
      "metadata": {
        "id": "hgebJvkUd_qi",
        "colab_type": "text"
      },
      "cell_type": "markdown",
      "source": [
        "## Radial Part, R_nl(r)"
      ]
    },
    {
      "metadata": {
        "id": "233ib7M0c6lX",
        "colab_type": "text"
      },
      "cell_type": "markdown",
      "source": [
        "Using Sympy (Symbolic Python, like Mathematica), we can access the hydrogen wavefunctions directly.  Let's start with the radial part, R_nl(r).  Here are some cool things that you can do.\n",
        "1. Print out the wavefunction"
      ]
    },
    {
      "metadata": {
        "id": "W9NNVbY4daJK",
        "colab_type": "code",
        "outputId": "5dd2bf90-2bdf-4eae-c3bf-8b6d5047820b",
        "colab": {
          "base_uri": "https://localhost:8080/",
          "height": 34
        }
      },
      "cell_type": "code",
      "source": [
        "R_nl(2,0,r) "
      ],
      "execution_count": 16,
      "outputs": [
        {
          "output_type": "execute_result",
          "data": {
            "text/plain": [
              "sqrt(2)*(-r + 2)*exp(-r/2)/4"
            ]
          },
          "metadata": {
            "tags": []
          },
          "execution_count": 16
        }
      ]
    },
    {
      "metadata": {
        "id": "93MTXe00epWc",
        "colab_type": "text"
      },
      "cell_type": "markdown",
      "source": [
        "2. Integrate the wavefunction.  \n",
        "\n",
        "The function below is the probability density integrated over all radii.  How would you change it to be an expectation value?  Try it!  Notice that if you are expecting a radius, the answer is reported as a multiple of the Bohr radius."
      ]
    },
    {
      "metadata": {
        "id": "h_gokoC_Z9lw",
        "colab_type": "code",
        "outputId": "cc54c163-133d-45a9-cbed-5a8be2e645f0",
        "colab": {
          "base_uri": "https://localhost:8080/",
          "height": 34
        }
      },
      "cell_type": "code",
      "source": [
        "integrate(R_nl(2, 0, r)**2 * r**2, (r, 0, oo))"
      ],
      "execution_count": 27,
      "outputs": [
        {
          "output_type": "execute_result",
          "data": {
            "text/plain": [
              "1"
            ]
          },
          "metadata": {
            "tags": []
          },
          "execution_count": 27
        }
      ]
    },
    {
      "metadata": {
        "id": "KRp3UsjDgPwH",
        "colab_type": "text"
      },
      "cell_type": "markdown",
      "source": [
        "3.  Plot the wavefunction\n",
        "\n",
        "Again, the plot below is the probability density.  How would you change it to the wavefunction?"
      ]
    },
    {
      "metadata": {
        "id": "4MCXimMvbuE3",
        "colab_type": "code",
        "outputId": "cb68777d-f1b0-486f-aaea-61515ebf6895",
        "colab": {
          "base_uri": "https://localhost:8080/",
          "height": 405
        }
      },
      "cell_type": "code",
      "source": [
        "p1 = plot(R_nl(2, 0, r)**2 * r**2, xlim=[0,10], ylim=[0,0.8], \n",
        "          xlabel='radius', ylabel='probability density')"
      ],
      "execution_count": 18,
      "outputs": [
        {
          "output_type": "display_data",
          "data": {
            "image/png": "[encoded data removed]",
            "text/plain": [
              "<Figure size 576x396 with 1 Axes>"
            ]
          },
          "metadata": {
            "tags": []
          }
        }
      ]
    },
    {
      "metadata": {
        "id": "jBm-eTQAivtV",
        "colab_type": "text"
      },
      "cell_type": "markdown",
      "source": [
        "4.  Differentiate the wavefunction.\n",
        "\n",
        "Here we differentiate the probability density and set that equal to zero to find the maxima.  Guess what the answer is from the plot above, and then check your understanding below."
      ]
    },
    {
      "metadata": {
        "id": "aH0eYDtvYeRr",
        "colab_type": "code",
        "colab": {
          "base_uri": "https://localhost:8080/",
          "height": 34
        },
        "outputId": "48d34f70-2e23-4957-9263-263526a17ad4"
      },
      "cell_type": "code",
      "source": [
        "diff(R_nl(2, 0, r)**2 * r**2)"
      ],
      "execution_count": 23,
      "outputs": [
        {
          "output_type": "execute_result",
          "data": {
            "text/plain": [
              "-r**2*(-r + 2)**2*exp(-r)/8 + r**2*(2*r - 4)*exp(-r)/8 + r*(-r + 2)**2*exp(-r)/4"
            ]
          },
          "metadata": {
            "tags": []
          },
          "execution_count": 23
        }
      ]
    },
    {
      "metadata": {
        "id": "lzPguUPRjgPS",
        "colab_type": "code",
        "colab": {
          "base_uri": "https://localhost:8080/",
          "height": 34
        },
        "outputId": "6a1ab1fb-5acd-4d6c-d6f2-be1ee221f8ed"
      },
      "cell_type": "code",
      "source": [
        "solve(diff(R_nl(2, 0, r)**2 * r**2), r)"
      ],
      "execution_count": 26,
      "outputs": [
        {
          "output_type": "execute_result",
          "data": {
            "text/plain": [
              "[2, -sqrt(5) + 3, sqrt(5) + 3]"
            ]
          },
          "metadata": {
            "tags": []
          },
          "execution_count": 26
        }
      ]
    },
    {
      "metadata": {
        "id": "KjP_1LyOaFYw",
        "colab_type": "code",
        "outputId": "ee0b5c7c-8a51-4077-d493-963927369101",
        "colab": {
          "base_uri": "https://localhost:8080/",
          "height": 34
        }
      },
      "cell_type": "code",
      "source": [
        "zeros=solve(diff(R_nl(2, 0, r)**2 * r**2), r)\n",
        "zeros[1].evalf(3),zeros[2].evalf(3)"
      ],
      "execution_count": 31,
      "outputs": [
        {
          "output_type": "execute_result",
          "data": {
            "text/plain": [
              "(0.764, 5.24)"
            ]
          },
          "metadata": {
            "tags": []
          },
          "execution_count": 31
        }
      ]
    },
    {
      "metadata": {
        "id": "NQBdyupSxXrg",
        "colab_type": "code",
        "colab": {}
      },
      "cell_type": "code",
      "source": [
        ""
      ],
      "execution_count": 0,
      "outputs": []
    },
    {
      "metadata": {
        "id": "6xSr8VfQidX8",
        "colab_type": "code",
        "colab": {}
      },
      "cell_type": "code",
      "source": [
        ""
      ],
      "execution_count": 0,
      "outputs": []
    },
    {
      "metadata": {
        "id": "8A93k_f1hGBK",
        "colab_type": "text"
      },
      "cell_type": "markdown",
      "source": [
        "Notice that you don't have to use just the radial part for these exercises!  Here is the same plot with the whole wavefunction, $\\psi_{nlm}(r,\\theta,\\phi)$."
      ]
    },
    {
      "metadata": {
        "id": "hy5Uil6rgsyt",
        "colab_type": "code",
        "outputId": "dfaf145e-6920-4767-e5bd-ab4f2d1c4de6",
        "colab": {
          "base_uri": "https://localhost:8080/",
          "height": 405
        }
      },
      "cell_type": "code",
      "source": [
        "p2 = plot(Psi_nlm(2,0,0,r,phi=0,theta=0,Z=1)**2 * 4 * pi * r**2,\n",
        "          xlim=[0,10], ylim=[0,0.8], xlabel='radius', ylabel='probability density')"
      ],
      "execution_count": 32,
      "outputs": [
        {
          "output_type": "display_data",
          "data": {
            "image/png": "[encoded data removed]",
            "text/plain": [
              "<Figure size 576x396 with 1 Axes>"
            ]
          },
          "metadata": {
            "tags": []
          }
        }
      ]
    },
    {
      "metadata": {
        "id": "ThyAVju1uX3a",
        "colab_type": "code",
        "colab": {}
      },
      "cell_type": "code",
      "source": [
        ""
      ],
      "execution_count": 0,
      "outputs": []
    }
  ]
}